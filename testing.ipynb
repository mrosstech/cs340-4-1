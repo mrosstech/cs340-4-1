{
 "cells": [
  {
   "cell_type": "code",
   "execution_count": null,
   "metadata": {},
   "outputs": [],
   "source": [
    "import animals\n",
    "\n",
    "animalCreate = {\"1\" : 10001, \n",
    "                \"age_upon_outcome\" : \"200 years\", \n",
    "                \"animal_id\" : \"A999999\", \n",
    "                \"animal_type\" : \"Other\", \n",
    "                \"breed\" : \"Raccoon\", \n",
    "                \"color\" : \"Gray/Black\", \n",
    "                \"date_of_birth\" : \"2015-11-20\", \n",
    "                \"datetime\" : \"2017-11-21 08:20:00\", \n",
    "                \"monthyear\" : \"2017-11-21T08:20:00\", \n",
    "                \"name\" : \"Pickles\", \n",
    "                \"outcome_subtype\" : \"Suffering\", \n",
    "                \"outcome_type\" : \"Cured\", \n",
    "                \"sex_upon_outcome\" : \"Male\", \n",
    "                \"location_lat\" : 30.3718926151062, \n",
    "                \"location_long\" : -97.4774272170111, \n",
    "                \"age_upon_outcome_in_weeks\" : 104.621031746032 }\n",
    "animalRead = {\"breed\": \"Raccoon\"}\n",
    "animalUpdateMatch = {\"1\": 10001}\n",
    "animalUpdateData = {\"age_upon_outcome\": \"20 years\"}\n",
    "animalDeleteMatch = {\"1\": 10001}\n",
    "\n",
    "animalShelter = animals.AnimalShelter(\"aacuser\", \"MyNewPassword\")\n",
    "createResult = animalShelter.create(animalCreate)\n",
    "readResult = animalShelter.read(animalRead)\n",
    "updateResult = animalShelter.update(animalUpdateMatch, animalUpdateData)\n",
    "deleteResult = animalShelter.delete(animalDeleteMatch)\n",
    "\n",
    "print(createResult)\n",
    "print(readResult)\n",
    "print(updateResult)\n",
    "print(deleteResult)\n"
   ]
  }
 ],
 "metadata": {
  "kernelspec": {
   "display_name": "Python 3",
   "language": "python",
   "name": "python3"
  },
  "language_info": {
   "name": "python",
   "version": "3.10.7"
  },
  "orig_nbformat": 4,
  "vscode": {
   "interpreter": {
    "hash": "cdd86c5702a9f52bbc114c819e3fd0c47e3458ac5258933de4df724e3fde8132"
   }
  }
 },
 "nbformat": 4,
 "nbformat_minor": 2
}

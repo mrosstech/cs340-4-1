{
 "cells": [
  {
   "cell_type": "code",
   "execution_count": null,
   "metadata": {},
   "outputs": [],
   "source": [
    "import animals\n",
    "\n",
    "animalCreate = {\"1\" : 10000, \"age_upon_outcome\" : \"200 years\", \"animal_id\" : \"A999999\", \"animal_type\" : \"Other\", \"breed\" : \"Raccoon\", \"color\" : \"Gray/Black\", \"date_of_birth\" : \"2015-11-20\", \"datetime\" : \"2017-11-21 08:20:00\", \"monthyear\" : \"2017-11-21T08:20:00\", \"name\" : \"Pickles\", \"outcome_subtype\" : \"Suffering\", \"outcome_type\" : \"Cured\", \"sex_upon_outcome\" : \"Male\", \"location_lat\" : 30.3718926151062, \"location_long\" : -97.4774272170111, \"age_upon_outcome_in_weeks\" : 104.621031746032 }\n",
    "animalRead = {\"breed\": \"Raccoon\"}\n",
    "animalShelter = animals.AnimalShelter(\"aacuser\", \"MyNewPassword\")\n",
    "createResult = animalShelter.create(animalCreate)\n",
    "readResult = animalShelter.read(animalRead)\n",
    "print(createResult)\n",
    "print(readResult)\n"
   ]
  }
 ],
 "metadata": {
  "kernelspec": {
   "display_name": "Python 3",
   "language": "python",
   "name": "python3"
  },
  "language_info": {
   "name": "python",
   "version": "3.10.7"
  },
  "orig_nbformat": 4,
  "vscode": {
   "interpreter": {
    "hash": "cdd86c5702a9f52bbc114c819e3fd0c47e3458ac5258933de4df724e3fde8132"
   }
  }
 },
 "nbformat": 4,
 "nbformat_minor": 2
}
